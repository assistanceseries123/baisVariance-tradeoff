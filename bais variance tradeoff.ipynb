{
 "cells": [
  {
   "cell_type": "code",
   "execution_count": 2,
   "id": "b8194017",
   "metadata": {},
   "outputs": [],
   "source": [
    "import pandas as pd\n",
    "import numpy as np\n",
    "import matplotlib.pyplot as plt\n",
    "import seaborn as sns\n",
    "%matplotlib inline\n",
    "import random"
   ]
  },
  {
   "cell_type": "code",
   "execution_count": 3,
   "id": "4abc7353",
   "metadata": {},
   "outputs": [
    {
     "data": {
      "text/plain": [
       "3.49257"
      ]
     },
     "execution_count": 3,
     "metadata": {},
     "output_type": "execute_result"
    }
   ],
   "source": [
    "outcome=[]\n",
    "for i in range(100000):\n",
    "    outcome.append(random.randint(1,6))\n",
    "\n",
    "np.array(outcome).mean()\n",
    "    "
   ]
  },
  {
   "cell_type": "code",
   "execution_count": 4,
   "id": "f1e491b8",
   "metadata": {},
   "outputs": [],
   "source": [
    "from mlxtend.evaluate import bias_variance_decomp\n",
    "from sklearn.tree import DecisionTreeRegressor\n",
    "from sklearn.linear_model import LinearRegression\n",
    "from mlxtend.data import boston_housing_data\n",
    "from sklearn.model_selection import train_test_split\n",
    "\n",
    "X,y=boston_housing_data()\n",
    "x_train,x_test,y_train,y_test=train_test_split(X,y,test_size=0.3,random_state=123,shuffle=True)"
   ]
  },
  {
   "cell_type": "code",
   "execution_count": 5,
   "id": "6383231f",
   "metadata": {},
   "outputs": [
    {
     "name": "stdout",
     "output_type": "stream",
     "text": [
      "Average expected loss: 29.891\n",
      "Average bias: 28.609 \n",
      "Average variance: 1.282\n"
     ]
    }
   ],
   "source": [
    "lr=LinearRegression()\n",
    "avg_expected_loss,avg_bias,avg_var=bias_variance_decomp(lr,x_train,y_train,x_test,y_test,loss='mse',random_seed=123)\n",
    "print(\"Average expected loss: %.3f\" % avg_expected_loss)\n",
    "print(\"Average bias: %.3f \" %avg_bias)\n",
    "print(\"Average variance: %.3f\" % avg_var)"
   ]
  },
  {
   "cell_type": "code",
   "execution_count": 6,
   "id": "196bd1f8",
   "metadata": {},
   "outputs": [
    {
     "name": "stdout",
     "output_type": "stream",
     "text": [
      "Average expected loss: 33.053\n",
      "Average bias: 14.639\n",
      "Average variance: 18.414\n"
     ]
    }
   ],
   "source": [
    "dt=DecisionTreeRegressor()\n",
    "avg_expected_loss,avg_bias,avg_var=bias_variance_decomp(dt,x_train,y_train,x_test,y_test,loss='mse',random_seed=123)\n",
    "print(\"Average expected loss: %.3f\" % avg_expected_loss)\n",
    "print(\"Average bias: %.3f\" % avg_bias)\n",
    "print(\"Average variance: %.3f\" %avg_var)"
   ]
  },
  {
   "cell_type": "code",
   "execution_count": null,
   "id": "0e88357b",
   "metadata": {},
   "outputs": [],
   "source": []
  }
 ],
 "metadata": {
  "kernelspec": {
   "display_name": "Python 3 (ipykernel)",
   "language": "python",
   "name": "python3"
  },
  "language_info": {
   "codemirror_mode": {
    "name": "ipython",
    "version": 3
   },
   "file_extension": ".py",
   "mimetype": "text/x-python",
   "name": "python",
   "nbconvert_exporter": "python",
   "pygments_lexer": "ipython3",
   "version": "3.11.3"
  }
 },
 "nbformat": 4,
 "nbformat_minor": 5
}
